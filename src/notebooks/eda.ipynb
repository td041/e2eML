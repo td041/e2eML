{
 "cells": [
  {
   "cell_type": "code",
   "execution_count": null,
   "id": "2057f7c6",
   "metadata": {},
   "outputs": [],
   "source": [
    "import pandas as pd\n",
    "import numpy as np\n"
   ]
  },
  {
   "cell_type": "code",
   "execution_count": null,
   "id": "10ead14a",
   "metadata": {},
   "outputs": [],
   "source": [
    "world_food_data= pd.read_csv(\"../../datasets/openfoodfacts/en.openfoodfacts.org.products.tsv\", sep=\"\\t\", low_memory=False)"
   ]
  },
  {
   "cell_type": "code",
   "execution_count": null,
   "id": "c59bedd4",
   "metadata": {},
   "outputs": [],
   "source": [
    "world_food_data.head()"
   ]
  }
 ],
 "metadata": {
  "kernelspec": {
   "display_name": ".venv",
   "language": "python",
   "name": "python3"
  },
  "language_info": {
   "codemirror_mode": {
    "name": "ipython",
    "version": 3
   },
   "file_extension": ".py",
   "mimetype": "text/x-python",
   "name": "python",
   "nbconvert_exporter": "python",
   "pygments_lexer": "ipython3",
   "version": "3.12.3"
  }
 },
 "nbformat": 4,
 "nbformat_minor": 5
}
